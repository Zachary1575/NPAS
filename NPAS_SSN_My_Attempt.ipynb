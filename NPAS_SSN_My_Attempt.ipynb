{
 "cells": [
  {
   "cell_type": "code",
   "execution_count": 1,
   "id": "e974620c-7feb-4d20-9e82-8d16df37d218",
   "metadata": {},
   "outputs": [],
   "source": [
    "import numpy as np\n",
    "import os, sys, shutil, time, random\n",
    "from tqdm import tqdm\n",
    "import matplotlib.pyplot as plt"
   ]
  },
  {
   "cell_type": "code",
   "execution_count": 2,
   "id": "7450b34f-e23c-450f-978e-504c029bd984",
   "metadata": {},
   "outputs": [],
   "source": [
    "# Plummer Imports for Images and Statistical ML\n",
    "import PIL\n",
    "from sklearn.cluster import KMeans"
   ]
  },
  {
   "cell_type": "code",
   "execution_count": 3,
   "id": "799d8958-038a-4b14-98c1-3c68f4c55f11",
   "metadata": {},
   "outputs": [
    {
     "name": "stderr",
     "output_type": "stream",
     "text": [
      "/Users/zacharyg/opt/anaconda3/envs/research/lib/python3.10/site-packages/torchvision/io/image.py:13: UserWarning: Failed to load image Python extension: dlopen(/Users/zacharyg/opt/anaconda3/envs/research/lib/python3.10/site-packages/torchvision/image.so, 0x0006): Library not loaded: @rpath/libjpeg.8.dylib\n",
      "  Referenced from: /Users/zacharyg/opt/anaconda3/envs/research/lib/python3.10/site-packages/torchvision/image.so\n",
      "  Reason: tried: '/Users/zacharyg/opt/anaconda3/envs/research/lib/python3.10/site-packages/torchvision/../../../libjpeg.8.dylib' (no such file), '/Users/zacharyg/opt/anaconda3/envs/research/lib/python3.10/site-packages/torchvision/../../../libjpeg.8.dylib' (no such file), '/Users/zacharyg/opt/anaconda3/envs/research/lib/python3.10/lib-dynload/../../libjpeg.8.dylib' (no such file), '/Users/zacharyg/opt/anaconda3/envs/research/bin/../lib/libjpeg.8.dylib' (no such file), '/usr/local/lib/libjpeg.8.dylib' (no such file), '/usr/lib/libjpeg.8.dylib' (no such file)\n",
      "  warn(f\"Failed to load image Python extension: {e}\")\n"
     ]
    }
   ],
   "source": [
    "# Torch Stuff\n",
    "import torch\n",
    "import torchvision\n",
    "\n",
    "# Plummer Torch Imports\n",
    "import torch.backends.cudnn as cudnn\n",
    "from torch.utils.data.sampler import SubsetRandomSampler, RandomSampler\n",
    "import torchvision.datasets as dset\n",
    "import torchvision.transforms as transforms\n",
    "\n",
    "\n",
    "# Local Imports\n",
    "#import models # Unsure what this is..."
   ]
  },
  {
   "cell_type": "code",
   "execution_count": 4,
   "id": "93970b26-3702-493d-b006-b35169634160",
   "metadata": {},
   "outputs": [
    {
     "name": "stderr",
     "output_type": "stream",
     "text": [
      "2023-09-06 12:02:31.798515: I tensorflow/core/platform/cpu_feature_guard.cc:193] This TensorFlow binary is optimized with oneAPI Deep Neural Network Library (oneDNN) to use the following CPU instructions in performance-critical operations:  SSE4.1 SSE4.2\n",
      "To enable them in other operations, rebuild TensorFlow with the appropriate compiler flags.\n"
     ]
    }
   ],
   "source": [
    "# Tensorflow Stuff\n",
    "import tensorflow as tf"
   ]
  },
  {
   "cell_type": "markdown",
   "id": "4cc36835-30aa-45a2-9d83-7eff4cbb0bea",
   "metadata": {},
   "source": [
    "# Data Utility & Preprocessing"
   ]
  },
  {
   "cell_type": "markdown",
   "id": "525d9cc9-87cf-47aa-aaf6-0bb57b122977",
   "metadata": {},
   "source": [
    "Load and Standarize the CIFAR-10 Data"
   ]
  },
  {
   "cell_type": "code",
   "execution_count": 5,
   "id": "d735af3b-0cae-45f3-bc1d-fb06b3c8af6b",
   "metadata": {},
   "outputs": [],
   "source": [
    "(x_train, y_train), (x_test, y_test) = tf.keras.datasets.cifar10.load_data();"
   ]
  },
  {
   "cell_type": "code",
   "execution_count": 12,
   "id": "076a5f3b-3ad0-48bd-a304-2ba60693f65f",
   "metadata": {},
   "outputs": [
    {
     "name": "stdout",
     "output_type": "stream",
     "text": [
      "X_train shape: (50000, 32, 32, 3)\n",
      "y_train shape: (50000, 1)\n",
      "X_test shape: (10000, 32, 32, 3)\n",
      "y_test shape: (10000, 1)\n"
     ]
    }
   ],
   "source": [
    "print(\"X_train shape:\", x_train.shape)\n",
    "print(\"y_train shape:\", y_train.shape)\n",
    "print(\"X_test shape:\", x_test.shape)\n",
    "print(\"y_test shape:\", y_test.shape)"
   ]
  },
  {
   "cell_type": "code",
   "execution_count": 9,
   "id": "75b78a8d-bd93-4012-bde7-c2e08fa13413",
   "metadata": {},
   "outputs": [
    {
     "name": "stdout",
     "output_type": "stream",
     "text": [
      "CIFAR-10 Mean: [0.4913725490196078, 0.4823529411764706, 0.4466666666666667]\n",
      "CIFAR-10 Standard Dev.: [0.24705882352941178, 0.24352941176470588, 0.2615686274509804]\n"
     ]
    }
   ],
   "source": [
    "mean, std = [x / 255 for x in [125.3, 123.0, 113.9]],  [x / 255 for x in [63.0, 62.1, 66.7]] \n",
    "print(\"CIFAR-10 Mean:\", mean)\n",
    "print(\"CIFAR-10 Standard Dev.:\", std)"
   ]
  },
  {
   "cell_type": "code",
   "execution_count": 11,
   "id": "65ee408b-4150-48f4-885b-786c38da9a4d",
   "metadata": {},
   "outputs": [],
   "source": [
    "train_transform = transforms.Compose(\n",
    "    [\n",
    "        transforms.RandomHorizontalFlip(), \n",
    "        transforms.RandomCrop(32, padding=4), \n",
    "        transforms.ToTensor(), \n",
    "        transforms.Normalize(mean, std)\n",
    "    ])\n",
    "\n",
    "test_transform = transforms.Compose(\n",
    "    [\n",
    "        transforms.ToTensor(), \n",
    "        transforms.Normalize(mean, std)\n",
    "    ])"
   ]
  },
  {
   "cell_type": "code",
   "execution_count": null,
   "id": "03fb4ee4-ae71-43dd-971b-813ceb38c3eb",
   "metadata": {},
   "outputs": [],
   "source": [
    "# I know abit redudabt, but we use pytorch's dataset abstraction to perform the preprocessing transforms...\n",
    "train_data = dataset(args.data_path, train=True,\n",
    "                     transform=train_transform, download=True)\n",
    "test_data = dataset(args.data_path, train=True,\n",
    "                    transform=test_transform, download=True)"
   ]
  },
  {
   "cell_type": "code",
   "execution_count": null,
   "id": "4e9234a9-eea0-4001-a218-ee0204c496d6",
   "metadata": {},
   "outputs": [],
   "source": []
  },
  {
   "cell_type": "code",
   "execution_count": null,
   "id": "d62b6850-f822-446a-8ff9-3fef2a789409",
   "metadata": {},
   "outputs": [],
   "source": []
  },
  {
   "cell_type": "code",
   "execution_count": null,
   "id": "1374bc9f-cff2-4b16-89df-5925b0aa0e82",
   "metadata": {},
   "outputs": [],
   "source": []
  }
 ],
 "metadata": {
  "kernelspec": {
   "display_name": "Python 3 (ipykernel)",
   "language": "python",
   "name": "python3"
  },
  "language_info": {
   "codemirror_mode": {
    "name": "ipython",
    "version": 3
   },
   "file_extension": ".py",
   "mimetype": "text/x-python",
   "name": "python",
   "nbconvert_exporter": "python",
   "pygments_lexer": "ipython3",
   "version": "3.10.9"
  }
 },
 "nbformat": 4,
 "nbformat_minor": 5
}
